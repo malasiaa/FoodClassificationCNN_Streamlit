{
  "cells": [
    {
      "cell_type": "code",
      "execution_count": null,
      "metadata": {
        "id": "tS_Dmh13unn7"
      },
      "outputs": [],
      "source": [
        "import tensorflow as tf\n",
        "from tensorflow import keras\n",
        "from tensorflow.keras.layers import Dense, Conv2D, Flatten, MaxPooling2D\n",
        "from tensorflow.keras.models import Model, Sequential\n",
        "from tensorflow.keras.preprocessing.image import ImageDataGenerator\n",
        "from tensorflow.keras import callbacks\n",
        "from tensorflow.keras.models import Sequential\n",
        "from tensorflow.keras.layers import Conv2D, MaxPooling2D, Flatten, Dense\n",
        "from tensorflow.keras.preprocessing.image import ImageDataGenerator\n",
        "from tensorflow.keras.layers import BatchNormalization\n",
        "from tensorflow.keras.optimizers import RMSprop\n",
        "from tensorflow.keras import backend as K\n",
        "from tensorflow.keras.applications.vgg16 import VGG16\n",
        "from tensorflow.keras.layers import GlobalAveragePooling2D\n",
        "import matplotlib.pyplot as plt\n",
        "\n",
        "\n",
        "import pickle\n",
        "import os\n",
        "import splitfolders\n",
        "import warnings\n",
        "import zipfile\n",
        "import PIL\n",
        "\n",
        "os.environ[\"KAGGLE_USERNAME\"] = #\"INSERT YOUR USERNAME\"\n",
        "os.environ[\"KAGGLE_KEY\"] = #\"INSERT YOUR KEY\"\n",
        "\n",
        "from kaggle.api.kaggle_api_extended import KaggleApi\n",
        "\n",
        "warnings.filterwarnings(\"ignore\")"
      ]
    },
    {
      "cell_type": "code",
      "execution_count": 4,
      "metadata": {
        "id": "QFw3nScHuoF6"
      },
      "outputs": [],
      "source": [
        "api = KaggleApi()\n",
        "api.authenticate()\n",
        "\n",
        "api.dataset_download_files(\"harishkumardatalab/food-image-classification-dataset\", path=\".\")"
      ]
    },
    {
      "cell_type": "code",
      "execution_count": 5,
      "metadata": {
        "id": "MEnsj5uUuqHw"
      },
      "outputs": [],
      "source": [
        "with zipfile.ZipFile(\"food-image-classification-dataset.zip\", \"r\") as z:\n",
        "    z.extractall(\".\")"
      ]
    },
    {
      "cell_type": "code",
      "execution_count": null,
      "metadata": {
        "id": "4BbhC600urJH"
      },
      "outputs": [],
      "source": [
        "path = './Food Classification dataset'\n",
        "output = f\"{path} splitted\""
      ]
    },
    {
      "cell_type": "code",
      "execution_count": 7,
      "metadata": {
        "colab": {
          "base_uri": "https://localhost:8080/"
        },
        "id": "cYZcoAMGusyp",
        "outputId": "4657865d-d6d9-4d29-f056-5c5a22cca4ca"
      },
      "outputs": [
        {
          "data": {
            "text/plain": [
              "34"
            ]
          },
          "execution_count": 7,
          "metadata": {},
          "output_type": "execute_result"
        }
      ],
      "source": [
        "#Number of categories\n",
        "len(os.listdir(path))"
      ]
    },
    {
      "cell_type": "code",
      "execution_count": 8,
      "metadata": {
        "colab": {
          "base_uri": "https://localhost:8080/"
        },
        "id": "j9IRgC4-uuVx",
        "outputId": "f3456760-5f54-4a61-e8ea-2940d996c698"
      },
      "outputs": [
        {
          "name": "stderr",
          "output_type": "stream",
          "text": [
            "Copying files: 23873 files [00:12, 1930.90 files/s]\n"
          ]
        }
      ],
      "source": [
        "#spliting data into, training, validation, and test\n",
        "splitfolders.ratio(path, seed=1337, output=output, ratio=(0.6, 0.2, 0.2))"
      ]
    },
    {
      "cell_type": "code",
      "execution_count": 10,
      "metadata": {
        "id": "hQUU_5_IUNUt"
      },
      "outputs": [],
      "source": [
        "# This was an imbalaced dataset, hence to better understand model performance, it was used F1-Score\n",
        "def recall_m(y_true, y_pred):\n",
        "    true_positives = K.sum(K.round(K.clip(y_true * y_pred, 0, 1)))\n",
        "    possible_positives = K.sum(K.round(K.clip(y_true, 0, 1)))\n",
        "    recall = true_positives / (possible_positives + K.epsilon())\n",
        "    return recall\n",
        "\n",
        "def precision_m(y_true, y_pred):\n",
        "    true_positives = K.sum(K.round(K.clip(y_true * y_pred, 0, 1)))\n",
        "    predicted_positives = K.sum(K.round(K.clip(y_pred, 0, 1)))\n",
        "    precision = true_positives / (predicted_positives + K.epsilon())\n",
        "    return precision\n",
        "\n",
        "def f1_m(y_true, y_pred):\n",
        "    precision = precision_m(y_true, y_pred)\n",
        "    recall = recall_m(y_true, y_pred)\n",
        "    return 2 * ((precision * recall) / (precision + recall + K.epsilon()))"
      ]
    },
    {
      "cell_type": "code",
      "execution_count": 11,
      "metadata": {
        "colab": {
          "base_uri": "https://localhost:8080/"
        },
        "id": "n2gVZHASuxUz",
        "outputId": "9d25f74c-2c95-4187-b134-9da321ffe62b"
      },
      "outputs": [
        {
          "name": "stdout",
          "output_type": "stream",
          "text": [
            "Found 14316 images belonging to 34 classes.\n",
            "Found 4765 images belonging to 34 classes.\n"
          ]
        }
      ],
      "source": [
        "# Part 2 - Fitting the CNN to the images\n",
        "\n",
        "train_datagen = ImageDataGenerator(rescale = 1./255,\n",
        "                                   shear_range = 0.2,\n",
        "                                   zoom_range = 0.2,\n",
        "                                   horizontal_flip = True)\n",
        "\n",
        "validation_datagen = ImageDataGenerator(rescale=1./255)\n",
        "\n",
        "test_datagen = ImageDataGenerator(rescale=1./255)\n",
        "\n",
        "# Load and preprocess the training set\n",
        "training_set = train_datagen.flow_from_directory(f'{output}/train',\n",
        "    target_size=(224, 224),\n",
        "    batch_size=128,\n",
        "    class_mode='categorical'\n",
        ")\n",
        "\n",
        "# Load and preprocess the validation set\n",
        "validation_set = validation_datagen.flow_from_directory(f'{output}/val',\n",
        "    target_size=(224, 224),\n",
        "    batch_size=128,\n",
        "    class_mode='categorical'\n",
        ")\n",
        "\n"
      ]
    },
    {
      "cell_type": "code",
      "execution_count": 14,
      "metadata": {
        "colab": {
          "base_uri": "https://localhost:8080/"
        },
        "id": "wN0_ucQFdosg",
        "outputId": "5e544d40-d80b-43a0-b5a1-497319e5f01c"
      },
      "outputs": [
        {
          "name": "stdout",
          "output_type": "stream",
          "text": [
            "Number of layers in VGG16 : 19\n",
            "Model: \"sequential_1\"\n",
            "_________________________________________________________________\n",
            " Layer (type)                Output Shape              Param #   \n",
            "=================================================================\n",
            " vgg16 (Functional)          (None, 7, 7, 512)         14714688  \n",
            "                                                                 \n",
            " global_average_pooling2d_1  (None, 512)               0         \n",
            "  (GlobalAveragePooling2D)                                       \n",
            "                                                                 \n",
            " dense_1 (Dense)             (None, 34)                17442     \n",
            "                                                                 \n",
            "=================================================================\n",
            "Total params: 14732130 (56.20 MB)\n",
            "Trainable params: 7096866 (27.07 MB)\n",
            "Non-trainable params: 7635264 (29.13 MB)\n",
            "_________________________________________________________________\n",
            "Epoch 1/10\n",
            "112/112 [==============================] - 323s 3s/step - loss: 2.2529 - f1_m: 0.2388 - val_loss: 1.4919 - val_f1_m: 0.4919\n",
            "Epoch 2/10\n",
            "112/112 [==============================] - 272s 2s/step - loss: 1.3304 - f1_m: 0.5638 - val_loss: 1.2196 - val_f1_m: 0.6211\n",
            "Epoch 3/10\n",
            "112/112 [==============================] - 280s 2s/step - loss: 1.0603 - f1_m: 0.6657 - val_loss: 0.9875 - val_f1_m: 0.7007\n",
            "Epoch 4/10\n",
            "112/112 [==============================] - 271s 2s/step - loss: 0.8871 - f1_m: 0.7237 - val_loss: 0.9345 - val_f1_m: 0.7174\n",
            "Epoch 5/10\n",
            "112/112 [==============================] - 270s 2s/step - loss: 0.7837 - f1_m: 0.7556 - val_loss: 0.9597 - val_f1_m: 0.7159\n",
            "Epoch 6/10\n",
            "112/112 [==============================] - 272s 2s/step - loss: 0.7037 - f1_m: 0.7830 - val_loss: 0.8443 - val_f1_m: 0.7598\n",
            "Epoch 7/10\n",
            "112/112 [==============================] - 281s 3s/step - loss: 0.6173 - f1_m: 0.8105 - val_loss: 0.8494 - val_f1_m: 0.7510\n",
            "Epoch 8/10\n",
            "112/112 [==============================] - 269s 2s/step - loss: 0.5579 - f1_m: 0.8305 - val_loss: 0.8328 - val_f1_m: 0.7596\n",
            "Epoch 9/10\n",
            "112/112 [==============================] - 280s 2s/step - loss: 0.5128 - f1_m: 0.8412 - val_loss: 0.7952 - val_f1_m: 0.7761\n",
            "Epoch 10/10\n",
            "112/112 [==============================] - 268s 2s/step - loss: 0.4582 - f1_m: 0.8587 - val_loss: 0.7840 - val_f1_m: 0.7847\n"
          ]
        }
      ],
      "source": [
        "# AGG16 architecture\n",
        "# https://www.mathworks.com/help/deeplearning/ref/vgg16.html\n",
        "\n",
        "# Define a callback\n",
        "save_ck = callbacks.ModelCheckpoint('.mdl_wt.hdf5',save_best_only=True,monitor='val_loss',mode='min')\n",
        "\n",
        "# Initialize a sequential model\n",
        "vgg_model = Sequential()\n",
        "\n",
        "# Load the VGG16 model without the top classification layer, using pre-trained ImageNet weights\n",
        "vgg_base_model = VGG16(include_top = False, weights=\"imagenet\", input_shape = (224,224,3))\n",
        "print(f'Number of layers in VGG16 : {len(vgg_base_model.layers)}')\n",
        "\n",
        "# Set the base model to be trainable\n",
        "vgg_base_model.trainable = True\n",
        "\n",
        "# Freeze the first  15 layers of the base model to preserve the pre-trained features\n",
        "for layer in vgg_base_model.layers[:15]:\n",
        "    layer.trainable = False\n",
        "\n",
        "# Add the base model to the new model\n",
        "vgg_model.add(vgg_base_model)\n",
        "# Add a Global Average Pooling layer followed by a dense layer with softmax activation for classification\n",
        "vgg_model.add(GlobalAveragePooling2D())\n",
        "vgg_model.add(Dense(units = 34, activation = 'softmax'))\n",
        "vgg_model.summary()\n",
        "\n",
        "# Compile the model with Adam optimizer, categorical crossentropy loss, and the calculated F1-Score\n",
        "vgg_model.compile(optimizer = keras.optimizers.Adam(learning_rate = 0.0001) , loss = 'categorical_crossentropy' , metrics = [f1_m])\n",
        "# Train the model\n",
        "vgg = vgg_model.fit(training_set,\n",
        "                    batch_size = 128,\n",
        "                    epochs = 10,\n",
        "                    validation_data = validation_set,\n",
        "                    callbacks=save_ck)"
      ]
    },
    {
      "cell_type": "code",
      "execution_count": 24,
      "metadata": {
        "id": "JQl7EmD1ZkQ5"
      },
      "outputs": [],
      "source": [
        "#Save model in a h5 file\n",
        "vgg.save('vgg_foodclass.h5', save_format='h5')"
      ]
    },
    {
      "cell_type": "code",
      "execution_count": 17,
      "metadata": {
        "colab": {
          "base_uri": "https://localhost:8080/"
        },
        "id": "HXbOfLhIU9Xt",
        "outputId": "fe5d6120-cafe-49dc-c36d-b4c728a541ce"
      },
      "outputs": [
        {
          "name": "stdout",
          "output_type": "stream",
          "text": [
            "Found 4792 images belonging to 34 classes.\n"
          ]
        }
      ],
      "source": [
        "#Load and preprocess the test set\n",
        "test_set = test_datagen.flow_from_directory(f'{output}/test',\n",
        "    target_size=(224, 224),\n",
        "    batch_size=128,\n",
        "    class_mode='categorical',\n",
        "    shuffle=False\n",
        ")"
      ]
    },
    {
      "cell_type": "code",
      "execution_count": 19,
      "metadata": {
        "colab": {
          "base_uri": "https://localhost:8080/"
        },
        "id": "LSx1rCUJu-Xh",
        "outputId": "aecd1c61-65b7-45ed-acad-659b7cf63f46"
      },
      "outputs": [
        {
          "name": "stdout",
          "output_type": "stream",
          "text": [
            "38/38 [==============================] - 32s 835ms/step - loss: 0.8074 - f1_m: 0.7746\n",
            "Test Loss: 0.8074254989624023, Test F1: 0.774620771408081\n"
          ]
        }
      ],
      "source": [
        "# Evaluate the model on the test set\n",
        "evaluation_results = vgg_model.evaluate(test_set)\n",
        "print(f'Test Loss: {evaluation_results[0]}, Test F1: {evaluation_results[1]}')"
      ]
    },
    {
      "cell_type": "code",
      "execution_count": 28,
      "metadata": {
        "colab": {
          "base_uri": "https://localhost:8080/",
          "height": 472
        },
        "id": "Ou3ZQ7CYVJFZ",
        "outputId": "b73ba3b8-6845-4245-98c0-0e71f29538f8"
      },
      "outputs": [
        {
          "data": {
            "image/png": "[encoded data removed]",
            "text/plain": [
              "<Figure size 640x480 with 1 Axes>"
            ]
          },
          "metadata": {},
          "output_type": "display_data"
        }
      ],
      "source": [
        "# Plot training and validation F1-Score\n",
        "accuracy = vgg.history['f1_m']\n",
        "val_accuracy = vgg.history['val_f1_m']\n",
        "epochs = range(1, len(accuracy) + 1)\n",
        "\n",
        "plt.ylim([0, 1])\n",
        "plt.plot(epochs, accuracy, 'g', label='Training F1_Score')\n",
        "plt.plot(epochs, val_accuracy, 'b', label='Validation F1_Score')\n",
        "plt.title('Training and Validation F1_Score')\n",
        "plt.xlabel('Epochs')\n",
        "plt.ylabel('F1_Score')\n",
        "plt.legend()\n",
        "plt.show()"
      ]
    },
    {
      "cell_type": "code",
      "execution_count": 33,
      "metadata": {
        "colab": {
          "base_uri": "https://localhost:8080/",
          "height": 472
        },
        "id": "DauWKx_qu__Y",
        "outputId": "84ffc7a4-237b-46dd-edb9-c13b48b4a2bb"
      },
      "outputs": [
        {
          "data": {
            "image/png": "[encoded data removed]",
            "text/plain": [
              "<Figure size 640x480 with 1 Axes>"
            ]
          },
          "metadata": {},
          "output_type": "display_data"
        }
      ],
      "source": [
        "# Plot training and validation Loss\n",
        "loss = vgg.history['loss']\n",
        "val_loss = vgg.history['val_loss']\n",
        "epochs = range(1, len(accuracy) + 1)\n",
        "\n",
        "plt.ylim([0, 15])\n",
        "plt.plot(epochs, loss, 'g', label='Training Loss')\n",
        "plt.plot(epochs, val_loss, 'b', label='Validation Loss')\n",
        "plt.title('Training and Validation Loss')\n",
        "plt.xlabel('Epochs')\n",
        "plt.ylabel('Loss')\n",
        "plt.legend()\n",
        "plt.show()"
      ]
    },
    {
      "cell_type": "code",
      "execution_count": 31,
      "metadata": {
        "colab": {
          "base_uri": "https://localhost:8080/"
        },
        "id": "JhbWBe42VOQ0",
        "outputId": "288e5484-61a6-4c31-c511-be5e56ef77b9"
      },
      "outputs": [
        {
          "name": "stdout",
          "output_type": "stream",
          "text": [
            "Confusion Matrix\n",
            "[[263   2   4 ...   0   2   2]\n",
            " [  8 224   0 ...   0   2   2]\n",
            " [  3   0 270 ...   0   0   1]\n",
            " ...\n",
            " [  6   0   0 ...  27   0   0]\n",
            " [  0   0   0 ...   0  43   0]\n",
            " [  1   0   3 ...   0   1 157]]\n",
            "Classification Report\n",
            "                precision    recall  f1-score   support\n",
            "\n",
            "     apple_pie       0.78      0.88      0.82       300\n",
            "  Baked Potato       0.81      0.75      0.78       300\n",
            "        burger       0.92      0.90      0.91       300\n",
            "   butter_naan       0.93      0.82      0.87       300\n",
            "          chai       0.91      0.76      0.83       311\n",
            "       chapati       0.91      0.66      0.77       300\n",
            "    cheesecake       0.75      0.65      0.70       300\n",
            " chicken_curry       0.87      0.72      0.79       300\n",
            " chole_bhature       0.55      0.73      0.63       200\n",
            "Crispy Chicken       0.65      0.88      0.75        67\n",
            "   dal_makhani       0.88      0.45      0.60        62\n",
            "        dhokla       0.82      0.86      0.84        70\n",
            "         Donut       0.73      0.80      0.76        66\n",
            "    fried_rice       0.89      0.75      0.81       200\n",
            "         Fries       0.71      0.75      0.73       200\n",
            "       Hot Dog       0.81      0.82      0.81        76\n",
            "     ice_cream       0.90      0.80      0.85        59\n",
            "          idli       0.91      0.88      0.90        49\n",
            "        jalebi       0.88      0.80      0.84        70\n",
            "  kaathi_rolls       0.57      0.84      0.68       200\n",
            "  kadai_paneer       0.87      0.89      0.88        61\n",
            "         kulfi       0.94      0.86      0.90        59\n",
            "   masala_dosa       0.84      0.72      0.77        57\n",
            "         momos       0.62      0.78      0.69        68\n",
            "      omelette       0.90      0.43      0.58        44\n",
            "    paani_puri       0.85      0.79      0.81        56\n",
            "        pakode       0.72      0.83      0.77        66\n",
            "     pav_bhaji       0.62      0.81      0.70       200\n",
            "         pizza       0.64      0.77      0.70        30\n",
            "        samosa       0.45      0.78      0.57        55\n",
            "      Sandwich       0.56      0.87      0.68        61\n",
            "         sushi       0.93      0.49      0.64        55\n",
            "          Taco       0.54      0.86      0.66        50\n",
            "       Taquito       0.81      0.79      0.79       200\n",
            "\n",
            "      accuracy                           0.77      4792\n",
            "     macro avg       0.78      0.77      0.76      4792\n",
            "  weighted avg       0.80      0.77      0.77      4792\n",
            "\n"
          ]
        }
      ],
      "source": [
        "# Assuming you have more than two classes, use argmax to get predicted class indices\n",
        "import numpy as np\n",
        "from sklearn.metrics import classification_report, confusion_matrix\n",
        "Y_pred = vgg_model.predict_generator(test_set)\n",
        "predicted_classes = np.argmax(Y_pred, axis=1)\n",
        "\n",
        "# Print confusion matrix\n",
        "print('Confusion Matrix')\n",
        "print(confusion_matrix(test_set.classes, predicted_classes))\n",
        "\n",
        "# Print classification report\n",
        "target_names = ['apple_pie', 'Baked Potato', 'burger', 'butter_naan', 'chai', 'chapati', 'cheesecake', 'chicken_curry', 'chole_bhature', 'Crispy Chicken', 'dal_makhani', 'dhokla', 'Donut', 'fried_rice', 'Fries', 'Hot Dog', 'ice_cream', 'idli', 'jalebi', 'kaathi_rolls', 'kadai_paneer', 'kulfi', 'masala_dosa', 'momos', 'omelette', 'paani_puri', 'pakode', 'pav_bhaji', 'pizza', 'samosa', 'Sandwich', 'sushi', 'Taco', 'Taquito']\n",
        "print('Classification Report')\n",
        "print(classification_report(test_set.classes, predicted_classes, target_names=target_names))"
      ]
    }
  ],
  "metadata": {
    "accelerator": "GPU",
    "colab": {
      "gpuType": "T4",
      "provenance": []
    },
    "kernelspec": {
      "display_name": "Python 3",
      "name": "python3"
    },
    "language_info": {
      "codemirror_mode": {
        "name": "ipython",
        "version": 3
      },
      "file_extension": ".py",
      "mimetype": "text/x-python",
      "name": "python",
      "nbconvert_exporter": "python",
      "pygments_lexer": "ipython3",
      "version": "3.9.13"
    }
  },
  "nbformat": 4,
  "nbformat_minor": 0
}
